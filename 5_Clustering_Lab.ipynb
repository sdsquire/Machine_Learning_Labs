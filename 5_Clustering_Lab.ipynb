{
 "cells": [
  {
   "cell_type": "markdown",
   "metadata": {
    "id": "DVL7_bgmIAPR"
   },
   "source": [
    "# Unsupervised Learning: Clustering Lab\n",
    "\n",
    "\n",
    "\n"
   ]
  },
  {
   "cell_type": "code",
   "execution_count": 1,
   "metadata": {
    "id": "6ZbYjZZZ_yLV"
   },
   "outputs": [],
   "source": [
    "from sklearn.base import BaseEstimator, ClassifierMixin, ClusterMixin\n",
    "from sklearn.cluster import AgglomerativeClustering, KMeans\n",
    "from sklearn.metrics import silhouette_score\n",
    "from scipy.io import arff\n",
    "\n",
    "import numpy as np\n",
    "import matplotlib.pyplot as plt\n",
    "import itertools as it\n",
    "from typing import List, Set"
   ]
  },
  {
   "cell_type": "markdown",
   "metadata": {
    "id": "cTlK-kijk8Mg",
    "tags": []
   },
   "source": [
    "## 4. (Optional 5% extra credit) For your silhouette experiment above, write and use your own code to calculate the silhouette scores, rather than the SK or other version. \n",
    "\n",
    "Doing this here as it is used in the other classes"
   ]
  },
  {
   "cell_type": "code",
   "execution_count": 2,
   "metadata": {},
   "outputs": [],
   "source": [
    "def silhouette(*, classes, data=None, dist_matrix=None):\n",
    "    \"\"\"\n",
    "    Calulate silhouette score.\n",
    "    Args:\n",
    "        classes (array-like): 1-D array specifying the classes of `data`\n",
    "        data (array-like): 2-D array specifying the data. \n",
    "                            If dist_matrix is not None, then `data` is ignored.\n",
    "        dist_matrix (array-like): 2-D array specifying the distance between each point in `data`.\n",
    "                            Does not need to be passed if `data` is passed.\n",
    "    \"\"\"\n",
    "    if dist_matrix is None:\n",
    "        dist_matrix = np.linalg.norm(data[:,None,:] - data[None,:,:], axis=-1)\n",
    "    # Calculate average distance matrix\n",
    "    np.fill_diagonal(dist_matrix, np.nan)\n",
    "    avg_dist_matrix = np.array([np.nanmean(dist_matrix[classes==i], axis= 0) for i in np.unique(classes)]).T\n",
    "    intra_dists = avg_dist_matrix[range(len(classes)), classes]\n",
    "    avg_dist_matrix[range(len(classes)), classes] = np.inf\n",
    "    nearest_dists = np.min(avg_dist_matrix, axis=1)\n",
    "    point_scores = (nearest_dists - intra_dists) / np.maximum(nearest_dists, intra_dists)\n",
    "    point_scores[np.isnan(point_scores)] = 0\n",
    "    return np.average(point_scores)\n"
   ]
  },
  {
   "cell_type": "markdown",
   "metadata": {
    "id": "sCcEPx5VIORj",
    "jp-MarkdownHeadingCollapsed": true,
    "tags": []
   },
   "source": [
    "## 1. (50%) Implement the k-means clustering algorithm and the HAC (Hierarchical Agglomerative Clustering) algorithm.\n",
    "\n",
    "### 1.1.1 HAC\n",
    "\n",
    "### Code requirements \n",
    "- ~~HAC should support both single link and complete link options.~~\n",
    "- HAC automatically generates all clusterings from n to 1.  To simplify the amount of output you may want to implement a mechanism to specify for which k values actual output will be generated.\n",
    "\n",
    "\n",
    "---\n",
    "The output should include the following:\n",
    "- ~~The number of clusters (k).~~\n",
    "- ~~The silhouette score of the full clustering. (You can either write and use your own silhouette_score function (extra credit) or use sklearn's)~~\n",
    "\n",
    "\n",
    "For each cluster report include:\n",
    "\n",
    "\n",
    "- ~~The centroid id.~~\n",
    "- ~~The number of instances tied to that centroid.~~\n",
    " "
   ]
  },
  {
   "cell_type": "code",
   "execution_count": 3,
   "metadata": {
    "id": "_a2KSZ_7AN0G"
   },
   "outputs": [],
   "source": [
    "class HACClustering(BaseEstimator,ClusterMixin):\n",
    "\n",
    "    def __init__(self,k=3,link_type='single'): ## add parameters here\n",
    "        \"\"\"\n",
    "        Args:\n",
    "            k = how many final clusters to have\n",
    "            link_type = single or complete. when combining two clusters use complete link or single link\n",
    "        \"\"\"\n",
    "        self.link_type = link_type\n",
    "        self.k = k\n",
    "        self.clusters: List[List[np.array]] = []\n",
    "        self.silhouette=0\n",
    "        \n",
    "    def fit(self, X, y=None, *, normalize=True):\n",
    "        \"\"\" Fit the data; In this lab this will make the K clusters :D\n",
    "        Args:\n",
    "            X (array-like): A 2D numpy array with the training data\n",
    "            y (array-like): An optional argument. Clustering is usually unsupervised so you don't need labels\n",
    "        Returns:\n",
    "            self: this allows this to be chained, e.g. model.fit(X,y).predict(X_test)\n",
    "        \"\"\"\n",
    "        if normalize:\n",
    "            X = (X - np.min(X, axis=0))/(np.max(X, axis=0) - np.min(X, axis=0))\n",
    "            \n",
    "        link_func = np.min if self.link_type == \"single\" else np.max\n",
    "        used = np.inf if self.link_type == \"single\" else -np.inf\n",
    "        \n",
    "        dist_matrix = np.linalg.norm(X[None,:,:] - X[:,None,:], axis=-1)\n",
    "        dist_matrix[dist_matrix==0] = used\n",
    "        cluster_by_idx = [[i] for i in range(len(X))]\n",
    "        \n",
    "        for _ in range(len(X) - self.k):\n",
    "            # Find distance between every combination of clusters\n",
    "            cluster_dists = np.full((len(cluster_by_idx), len(cluster_by_idx)), np.inf)\n",
    "            for i, cluster1 in enumerate(cluster_by_idx):\n",
    "                for j, cluster2 in enumerate(cluster_by_idx[i+1:]):\n",
    "                    j += i+1 #Makes sure indexes match up. Looped this way to not loop when i == j or i > j (duplicate distance)\n",
    "                    relevant_dists = dist_matrix[cluster1,:][:, cluster2]\n",
    "                    cluster_dists[i, j] = link_func(relevant_dists)\n",
    "            # Find closest clusters\n",
    "            c1_idx, c2_idx = np.unravel_index(np.argmin(cluster_dists), cluster_dists.shape)\n",
    "            # Merge clusters\n",
    "            cluster_by_idx[c1_idx] += cluster_by_idx.pop(c2_idx)\n",
    "            \n",
    "        labels = []\n",
    "        for point in range(len(X)):\n",
    "            for i, cluster in enumerate(cluster_by_idx):\n",
    "                if point in cluster:\n",
    "                    labels.append(i)\n",
    "                    break\n",
    "        self.silhouette = silhouette(data=X, classes=labels)\n",
    "                    \n",
    "                \n",
    "        self.clusters = [np.array([X[idx] for idx in cluster]) for cluster in cluster_by_idx]\n",
    "        return self\n",
    "    \n",
    "    def print_clusters(self):\n",
    "        \"\"\"\n",
    "            Used for grading.\n",
    "            print(\"Num clusters: {:d}\\n\".format(k))\n",
    "            print(\"Silhouette score: {:.4f}\\n\\n\".format(silhouette_score))\n",
    "            for each cluster and centroid:\n",
    "                print(np.array2string(centroid,precision=4,separator=\",\"))\n",
    "                print(\"{:d}\\n\".format(size of cluster))\n",
    "        \"\"\"\n",
    "        print(f\"Num clusters: {len(self.clusters)}\")\n",
    "        print(f\"Silhouette score: {self.silhouette}\")\n",
    "        for cluster in self.clusters:\n",
    "            print(np.array2string(np.average(cluster, axis=0),precision=4,separator=\",\"))\n",
    "            print(\"{:d}\\n\".format(len(cluster)))"
   ]
  },
  {
   "cell_type": "markdown",
   "metadata": {
    "id": "KibCIXIThpbE"
   },
   "source": [
    "### 1.1.2 Debug \n",
    "\n",
    "Debug your model by running it on the [Debug Abalone Dataset](https://byu.instructure.com/courses/14142/files?preview=4735805)\n",
    "\n",
    "\n",
    "---\n",
    "The dataset was modified to be a lot smaller. The last datapoint should be on line 359 or the point 0.585,0.46,0.185,0.922,0.3635,0.213,0.285,10. The remaining points should be commented out.\n",
    "\n",
    "\n",
    "- Make sure to include the output class (last column) as an additional input feature\n",
    "- Normalize Data\n",
    "- K = 5\n",
    "- Use 4 decimal places and DO NOT ROUND when reporting silhouette score and centroid values.\n",
    "\n",
    "\n",
    "---\n",
    "Solutions in files:\n",
    "\n",
    "[Debug HAC Single (Silhouette).txt](https://byu.instructure.com/courses/14142/files?preview=4735819)\n",
    "\n",
    "[Debug HAC Complete (Silhouette).txt](https://byu.instructure.com/courses/14142/files?preview=4735820)"
   ]
  },
  {
   "cell_type": "code",
   "execution_count": 4,
   "metadata": {
    "tags": []
   },
   "outputs": [],
   "source": [
    "def load_data(path, *, split=True, x_type=float, y_type=str):\n",
    "    data, meta = arff.loadarff(path)\n",
    "    data = np.array([[*row] for row in data])\n",
    "    if split:\n",
    "        X, y = data[:,:-1].astype(x_type), data[:,-1].astype(y_type)\n",
    "    else:\n",
    "        X, y = data.astype(x_type), None\n",
    "    return X, y\n",
    "    "
   ]
  },
  {
   "cell_type": "code",
   "execution_count": 5,
   "metadata": {},
   "outputs": [
    {
     "name": "stdout",
     "output_type": "stream",
     "text": [
      "Num clusters: 5\n",
      "Silhouette score: 0.34525948566983433\n",
      "[0.599 ,0.5923,0.4915,0.2826,0.2682,0.2921,0.2316,0.3849]\n",
      "195\n",
      "\n",
      "[0.9189,0.9438,0.7105,0.7016,0.759 ,0.7222,0.4472,0.8824]\n",
      "1\n",
      "\n",
      "[1.    ,0.9831,0.8026,0.8343,0.6575,0.7825,0.9221,0.8824]\n",
      "2\n",
      "\n",
      "[1.    ,0.9888,0.7895,1.    ,1.    ,0.8915,0.7186,0.5882]\n",
      "1\n",
      "\n",
      "[0.9189,0.9888,0.8684,0.719 ,0.5797,0.7512,0.6432,0.9412]\n",
      "1\n",
      "\n"
     ]
    },
    {
     "name": "stderr",
     "output_type": "stream",
     "text": [
      "/tmp/ipykernel_74162/843845863.py:15: RuntimeWarning: Mean of empty slice\n",
      "  avg_dist_matrix = np.array([np.nanmean(dist_matrix[classes==i], axis= 0) for i in np.unique(classes)]).T\n"
     ]
    }
   ],
   "source": [
    "# Debug Here\n",
    "X, y = load_data(\"data/abalone.arff\", split=False)\n",
    "\n",
    "hac = HACClustering(5, \"single\")\n",
    "hac.fit(X)\n",
    "hac.print_clusters()"
   ]
  },
  {
   "cell_type": "markdown",
   "metadata": {
    "id": "kY3VNB1ui03N"
   },
   "source": [
    "### 1.1.3 Evaluation\n",
    "\n",
    "We will evaluate your model based on its print_clusters() output using [Evaluation Seismic-bumps_train Dataset](https://byu.instructure.com/courses/14142/files?preview=4735829)\n",
    "\n",
    "- Make sure to include the output class (last column) as an additional input feature\n",
    "- Normalize Data\n",
    "- K = 5\n",
    "- Use 4 decimal places and DO NOT ROUND when reporting silhouette score and centroid values."
   ]
  },
  {
   "cell_type": "markdown",
   "metadata": {},
   "source": [
    "#### 1.1.3.1 Complete Link"
   ]
  },
  {
   "cell_type": "code",
   "execution_count": 6,
   "metadata": {
    "id": "2yAxA78QjDh2"
   },
   "outputs": [
    {
     "name": "stdout",
     "output_type": "stream",
     "text": [
      "Num clusters: 5\n",
      "Silhouette score: -0.12186295921454993\n",
      "[0.5173,0.5639,0.5388,0.528 ,0.519 ,0.3946,0.5163]\n",
      "136\n",
      "\n",
      "[0.2774,0.2597,1.    ,0.1224,0.4505,0.7549,0.129 ]\n",
      "1\n",
      "\n",
      "[0.3065,0.3333,0.6979,0.2792,0.3787,1.    ,0.2373]\n",
      "1\n",
      "\n",
      "[0.0884,0.1818,0.    ,0.145 ,0.1538,0.1245,0.    ]\n",
      "1\n",
      "\n",
      "[0.795 ,0.8615,0.4172,0.7654,0.7498,0.9995,0.7553]\n",
      "1\n",
      "\n"
     ]
    },
    {
     "name": "stderr",
     "output_type": "stream",
     "text": [
      "/tmp/ipykernel_74162/843845863.py:15: RuntimeWarning: Mean of empty slice\n",
      "  avg_dist_matrix = np.array([np.nanmean(dist_matrix[classes==i], axis= 0) for i in np.unique(classes)]).T\n"
     ]
    }
   ],
   "source": [
    "# Load evaluation data\n",
    "X, y = load_data(\"data/seismic-bumps_train.arff\")\n",
    "# Train on evaluation data using complete link\n",
    "hac = HACClustering(k=5, link_type='single')\n",
    "hac.fit(X)\n",
    "# Print clusters\n",
    "hac.print_clusters()"
   ]
  },
  {
   "cell_type": "markdown",
   "metadata": {},
   "source": [
    "#### 1.1.3.1 Single Link"
   ]
  },
  {
   "cell_type": "code",
   "execution_count": 7,
   "metadata": {
    "id": "2yAxA78QjDh2"
   },
   "outputs": [
    {
     "name": "stdout",
     "output_type": "stream",
     "text": [
      "Num clusters: 5\n",
      "Silhouette score: -0.12186295921454993\n",
      "[0.5173,0.5639,0.5388,0.528 ,0.519 ,0.3946,0.5163]\n",
      "136\n",
      "\n",
      "[0.2774,0.2597,1.    ,0.1224,0.4505,0.7549,0.129 ]\n",
      "1\n",
      "\n",
      "[0.3065,0.3333,0.6979,0.2792,0.3787,1.    ,0.2373]\n",
      "1\n",
      "\n",
      "[0.0884,0.1818,0.    ,0.145 ,0.1538,0.1245,0.    ]\n",
      "1\n",
      "\n",
      "[0.795 ,0.8615,0.4172,0.7654,0.7498,0.9995,0.7553]\n",
      "1\n",
      "\n"
     ]
    },
    {
     "name": "stderr",
     "output_type": "stream",
     "text": [
      "/tmp/ipykernel_74162/843845863.py:15: RuntimeWarning: Mean of empty slice\n",
      "  avg_dist_matrix = np.array([np.nanmean(dist_matrix[classes==i], axis= 0) for i in np.unique(classes)]).T\n"
     ]
    }
   ],
   "source": [
    "# Load evaluation data\n",
    "X, y = load_data(\"data/seismic-bumps_train.arff\")\n",
    "# Train on evaluation data using complete link\n",
    "hac = HACClustering(k=5, link_type='single')\n",
    "hac.fit(X)\n",
    "# Print clusters\n",
    "hac.print_clusters()"
   ]
  },
  {
   "cell_type": "markdown",
   "metadata": {
    "jp-MarkdownHeadingCollapsed": true
   },
   "source": [
    "### 1.2.1 K-Means\n",
    "\n",
    "### Code requirements \n",
    "- Ability to choose k and specify k initial centroids\n",
    "- Use Euclidean Distance as metric\n",
    "- Ability to handle distance ties\n",
    "- Include output label as a cluster feature\n",
    "\n",
    "\n",
    "---\n",
    "The output should include the following:\n",
    "- The number of clusters (k).\n",
    "- The silhouette score of the full clustering. (You can either write and use your own silhouette_score function (extra credit) or use sklearn's)\n",
    "\n",
    "\n",
    "For each cluster report include:\n",
    "\n",
    "\n",
    "- The centroid id.\n",
    "- The number of instances tied to that centroid. \n",
    "---\n",
    "You only need to handle continuous features"
   ]
  },
  {
   "cell_type": "code",
   "execution_count": 8,
   "metadata": {
    "id": "_a2KSZ_7AN0G"
   },
   "outputs": [],
   "source": [
    "class KMEANSClustering(BaseEstimator,ClusterMixin):\n",
    "\n",
    "    def __init__(self,k=3,debug=False, normalize=True): ## add parameters here\n",
    "        \"\"\"\n",
    "        Args:\n",
    "            k = how many final clusters to have\n",
    "            debug = if debug is true use the first k instances as the initial centroids otherwise choose random points as the initial centroids.\n",
    "        \"\"\"\n",
    "        self.k = k\n",
    "        self.debug = debug\n",
    "        self.normalize = normalize\n",
    "        self.centroids = None\n",
    "        self.centroid_sizes = None\n",
    "        self.silhouette = 0\n",
    "        \n",
    "        self.X = None\n",
    "        \n",
    "    def fit(self, X, y=None):\n",
    "        \"\"\" Fit the data; In this lab this will make the K clusters :D\n",
    "        Args:\n",
    "            X (array-like): A 2D numpy array with the training data\n",
    "            y (array-like): An optional argument. Clustering is usually unsupervised so you don't need classes\n",
    "        Returns:\n",
    "            self: this allows this to be chained, e.g. model.fit(X,y).predict(X_test)\n",
    "        \"\"\"\n",
    "        self.X = X\n",
    "        if self.normalize:\n",
    "            X = (X - np.min(X, axis=0))/(np.max(X, axis=0) - np.min(X, axis=0))\n",
    "        centroids = X[np.random.choice(range(len(X)), self.k)] if not self.debug else X[:self.k].copy()\n",
    "        centroid_sizes = np.zeros((self.k,)).astype(int)\n",
    "        prev_centroids = np.full_like(centroids, np.nan)\n",
    "        \n",
    "        c = 0\n",
    "        while np.any(centroids != prev_centroids):\n",
    "            prev_centroids = centroids.copy()\n",
    "            centroid_dists = np.linalg.norm(centroids[:,None,:] - X[None,:,:], axis=-1).T\n",
    "            classes = np.argmin(centroid_dists, axis=1)\n",
    "            for i in range(len(centroids)):\n",
    "                if np.any(classes==i):\n",
    "                    centroids[i] = np.average(X[classes==i], axis=0)\n",
    "                centroid_sizes[i] = np.sum(classes==i)\n",
    "            c+=1\n",
    "                \n",
    "        # Calculate silhouette score\n",
    "        self.silhouette = silhouette(data=X, classes=classes)\n",
    "               \n",
    "        self.centroids = centroids\n",
    "        self.centroid_sizes = centroid_sizes\n",
    "        return self\n",
    "    \n",
    "    def print_clusters(self):\n",
    "        \"\"\"\n",
    "            Used for grading.\n",
    "            print(\"Num clusters: {:d}\\n\".format(k))\n",
    "            print(\"Silhouette score: {:.4f}\\n\\n\".format(silhouette_score))\n",
    "            for each cluster and centroid:\n",
    "                print(np.array2string(centroid,precision=4,separator=\",\"))\n",
    "                print(\"{:d}\\n\".format(size of cluster))\n",
    "        \"\"\"\n",
    "        print(\"Num clusters: {:d}\".format(self.k))\n",
    "        print(\"Silhouette score: {:.4f}\\n\".format(self.silhouette))\n",
    "        dist_matrix = np.sum((self.centroids[:, None, :] - self.X[None, :, :])**2, axis=2)**.5\n",
    "        classes = np.argmin(dist_matrix, axis=0)\n",
    "        for i, (centroid, size) in enumerate(zip(self.centroids, self.centroid_sizes)):\n",
    "            print(np.array2string(centroid,precision=4,separator=\",\"))\n",
    "            print(\"{:d}\\n\".format(size))"
   ]
  },
  {
   "cell_type": "markdown",
   "metadata": {
    "id": "KibCIXIThpbE",
    "jp-MarkdownHeadingCollapsed": true,
    "tags": []
   },
   "source": [
    "### 1.2.2 Debug \n",
    "\n",
    "Debug your model by running it on the [Debug Abalone Dataset](https://byu.instructure.com/courses/14142/files?preview=4735805)\n",
    "\n",
    "\n",
    "- Train until convergence\n",
    "- Make sure to include the output class (last column) as an additional input feature\n",
    "- Normalize Data\n",
    "- K = 5\n",
    "- Use the first k instances as the initial centroids\n",
    "- Use 4 decimal places and DO NOT ROUND when reporting silhouette score and centroid values\n",
    "\n",
    "\n",
    "\n",
    "\n",
    "---\n",
    "Solutions in files:\n",
    "\n",
    "[Debug K Means (Silhouette).txt](https://byu.instructure.com/courses/14142/files?preview=4735840)"
   ]
  },
  {
   "cell_type": "code",
   "execution_count": 9,
   "metadata": {
    "id": "KgAyy82gixIF"
   },
   "outputs": [
    {
     "name": "stdout",
     "output_type": "stream",
     "text": [
      "Num clusters: 5\n",
      "Silhouette score: 0.3845\n",
      "\n",
      "[0.7325,0.7327,0.627 ,0.3817,0.3633,0.4045,0.3046,0.4839]\n",
      "75\n",
      "\n",
      "[0.3704,0.3519,0.2686,0.0926,0.0935,0.094 ,0.0792,0.218 ]\n",
      "34\n",
      "\n",
      "[0.9035,0.905 ,0.7774,0.6579,0.5767,0.6193,0.5893,0.7279]\n",
      "24\n",
      "\n",
      "[0.5692,0.5628,0.4376,0.211 ,0.2113,0.2248,0.1659,0.317 ]\n",
      "54\n",
      "\n",
      "[0.1296,0.1037,0.1053,0.0177,0.0211,0.0272,0.0135,0.0724]\n",
      "13\n",
      "\n"
     ]
    }
   ],
   "source": [
    "# Load debug data\n",
    "X, y = load_data(\"data/abalone.arff\", split=False)\n",
    "X\n",
    "\n",
    "# Train on debug data\n",
    "kmns = KMEANSClustering(k=5, debug=True)\n",
    "kmns.fit(X)\n",
    "kmns.print_clusters()\n",
    "\n",
    "# Print clusters"
   ]
  },
  {
   "cell_type": "markdown",
   "metadata": {
    "id": "kY3VNB1ui03N",
    "tags": []
   },
   "source": [
    "### 1.2.3 Evaluation\n",
    "\n",
    "We will evaluate your model based on its print_clusters() output using [Evaluation Seismic-bumps_train Dataset](https://byu.instructure.com/courses/14142/files?preview=4735829)\n",
    "- Train until convergence\n",
    "- Make sure to include the output class (last column) as an additional input feature\n",
    "- Normalize Data\n",
    "- K = 5\n",
    "- Use the first k instances as the initial centroids\n",
    "- Use 4 decimal places and DO NOT ROUND when reporting silhouette score and centroid values"
   ]
  },
  {
   "cell_type": "code",
   "execution_count": 10,
   "metadata": {
    "id": "2yAxA78QjDh2"
   },
   "outputs": [
    {
     "name": "stdout",
     "output_type": "stream",
     "text": [
      "Num clusters: 5\n",
      "Silhouette score: 0.2587\n",
      "\n",
      "[0.5309,0.6006,0.439 ,0.5735,0.5103,0.5342,0.6215]\n",
      "25\n",
      "\n",
      "[0.3461,0.4113,0.4303,0.4128,0.3384,0.2791,0.3367]\n",
      "27\n",
      "\n",
      "[0.3908,0.4086,0.7787,0.319 ,0.4958,0.3748,0.2679]\n",
      "19\n",
      "\n",
      "[0.1698,0.2172,0.4256,0.2178,0.1689,0.318 ,0.172 ]\n",
      "21\n",
      "\n",
      "[0.7961,0.831 ,0.6054,0.7709,0.7802,0.4553,0.7919]\n",
      "48\n",
      "\n"
     ]
    }
   ],
   "source": [
    "# Load evaluation data\n",
    "X, y = load_data(\"data/seismic-bumps_train.arff\")\n",
    "\n",
    "# Train on evaluation data\n",
    "kmns = KMEANSClustering(k=5, debug=True)\n",
    "kmns.fit(X)\n",
    "\n",
    "# Print clusters\n",
    "kmns.print_clusters()"
   ]
  },
  {
   "cell_type": "markdown",
   "metadata": {
    "id": "9vWiTdlbR2Xh",
    "jp-MarkdownHeadingCollapsed": true,
    "tags": []
   },
   "source": [
    "## 2.1.1 (7.5%) Clustering the Iris Classification problem - HAC\n",
    "\n",
    "Load the Iris Dataset [Iris Dataset](https://byu.instructure.com/courses/14142/files?preview=4421369)\n",
    "\n",
    "- Use single-link and complete link clustering algorithms\n",
    "- State whether you normalize your data or not (your choice).  \n",
    "- Show your results for clusterings using k = 2-7.  \n",
    "- Graph the silhouette score for each k and discuss your results (i.e. what kind of clusters are being made).\n",
    "---"
   ]
  },
  {
   "cell_type": "code",
   "execution_count": 11,
   "metadata": {
    "id": "4SSoasDQSKXb"
   },
   "outputs": [
    {
     "name": "stdout",
     "output_type": "stream",
     "text": [
      "Num clusters: 2\n",
      "Silhouette score: 0.6294675561906643\n",
      "[0.1961,0.5908,0.0786,0.06  ]\n",
      "50\n",
      "\n",
      "[0.545 ,0.3633,0.662 ,0.6567]\n",
      "100\n",
      "\n",
      "----------------------------------------\n"
     ]
    },
    {
     "name": "stderr",
     "output_type": "stream",
     "text": [
      "/tmp/ipykernel_74162/843845863.py:15: RuntimeWarning: Mean of empty slice\n",
      "  avg_dist_matrix = np.array([np.nanmean(dist_matrix[classes==i], axis= 0) for i in np.unique(classes)]).T\n"
     ]
    },
    {
     "name": "stdout",
     "output_type": "stream",
     "text": [
      "Num clusters: 3\n",
      "Silhouette score: 0.530889323901593\n",
      "[0.199 ,0.6003,0.0792,0.0595]\n",
      "49\n",
      "\n",
      "[0.0556,0.125 ,0.0508,0.0833]\n",
      "1\n",
      "\n",
      "[0.545 ,0.3633,0.662 ,0.6567]\n",
      "100\n",
      "\n",
      "----------------------------------------\n",
      "Num clusters: 4\n",
      "Silhouette score: 0.3882664409102069\n",
      "[0.199 ,0.6003,0.0792,0.0595]\n",
      "49\n",
      "\n",
      "[0.0556,0.125 ,0.0508,0.0833]\n",
      "1\n",
      "\n",
      "[0.5363,0.3554,0.6563,0.6531]\n",
      "98\n",
      "\n",
      "[0.9722,0.75  ,0.9407,0.8333]\n",
      "2\n",
      "\n",
      "----------------------------------------\n",
      "Num clusters: 5\n",
      "Silhouette score: 0.20510173993234454\n",
      "[0.199 ,0.6003,0.0792,0.0595]\n",
      "49\n",
      "\n",
      "[0.0556,0.125 ,0.0508,0.0833]\n",
      "1\n",
      "\n",
      "[0.5401,0.357 ,0.657 ,0.6529]\n",
      "97\n",
      "\n",
      "[0.1667,0.2083,0.5932,0.6667]\n",
      "1\n",
      "\n",
      "[0.9722,0.75  ,0.9407,0.8333]\n",
      "2\n",
      "\n",
      "----------------------------------------\n",
      "Num clusters: 6\n",
      "Silhouette score: 0.16046278106948017\n",
      "[0.199 ,0.6003,0.0792,0.0595]\n",
      "49\n",
      "\n",
      "[0.0556,0.125 ,0.0508,0.0833]\n",
      "1\n",
      "\n",
      "[0.5373,0.3537,0.6548,0.6493]\n",
      "96\n",
      "\n",
      "[0.1667,0.2083,0.5932,0.6667]\n",
      "1\n",
      "\n",
      "[0.8056,0.6667,0.8644,1.    ]\n",
      "1\n",
      "\n",
      "[0.9722,0.75  ,0.9407,0.8333]\n",
      "2\n",
      "\n",
      "----------------------------------------\n",
      "Num clusters: 7\n",
      "Silhouette score: 0.10936566430229182\n",
      "[0.199 ,0.6003,0.0792,0.0595]\n",
      "49\n",
      "\n",
      "[0.0556,0.125 ,0.0508,0.0833]\n",
      "1\n",
      "\n",
      "[0.5386,0.3539,0.6544,0.6461]\n",
      "95\n",
      "\n",
      "[0.1667,0.2083,0.5932,0.6667]\n",
      "1\n",
      "\n",
      "[0.8056,0.6667,0.8644,1.    ]\n",
      "1\n",
      "\n",
      "[0.4167,0.3333,0.6949,0.9583]\n",
      "1\n",
      "\n",
      "[0.9722,0.75  ,0.9407,0.8333]\n",
      "2\n",
      "\n",
      "----------------------------------------\n"
     ]
    },
    {
     "data": {
      "image/png": "[encoded data removed]",
      "text/plain": [
       "<Figure size 640x480 with 1 Axes>"
      ]
     },
     "metadata": {},
     "output_type": "display_data"
    }
   ],
   "source": [
    "# Iris Classification using single-link\n",
    "# Load evaluation data\n",
    "iris, y = load_data(\"data/iris.arff\", y_type=str)\n",
    "# print(X.shape)\n",
    "# print(y.shape)\n",
    "# Train on evaluation data using complete link\n",
    "scores = []\n",
    "for k in range(2,8):\n",
    "    hac = HACClustering(k=k, link_type='single')\n",
    "    hac.fit(iris)\n",
    "    # Print clusters\n",
    "    hac.print_clusters()\n",
    "    scores.append(hac.silhouette)\n",
    "    print('-'*40)\n",
    "    \n",
    "plt.plot(range(2,8), scores)\n",
    "plt.title(\"Single link\")\n",
    "plt.xlabel(\"k\")\n",
    "plt.ylabel(\"Silhouette score\")\n",
    "plt.ylim(ymin=0, ymax=1.1)\n",
    "plt.title(\"Single-link\")\n",
    "plt.show()"
   ]
  },
  {
   "cell_type": "code",
   "execution_count": null,
   "metadata": {
    "id": "4SSoasDQSKXb"
   },
   "outputs": [
    {
     "name": "stdout",
     "output_type": "stream",
     "text": [
      "Num clusters: 2\n",
      "Silhouette score: 0.30391309058110383\n",
      "[0.3436,0.4318,0.367 ,0.3452]\n",
      "116\n",
      "\n",
      "[0.719 ,0.4645,0.8106,0.8419]\n",
      "34\n",
      "\n",
      "----------------------------------------\n",
      "Num clusters: 3\n",
      "Silhouette score: 0.5030674466509139\n",
      "[0.1961,0.5908,0.0786,0.06  ]\n",
      "50\n",
      "\n",
      "[0.4554,0.3112,0.5855,0.5612]\n",
      "66\n",
      "\n",
      "[0.719 ,0.4645,0.8106,0.8419]\n",
      "34\n",
      "\n",
      "----------------------------------------\n"
     ]
    }
   ],
   "source": [
    "# Iris Classification using single-link\n",
    "scores = []\n",
    "for k in range(2,8):\n",
    "    hac = HACClustering(k=k, link_type='complete')\n",
    "    hac.fit(iris)\n",
    "    # Print clusters\n",
    "    hac.print_clusters()\n",
    "    scores.append(hac.silhouette)\n",
    "    print('-'*40)\n",
    "    \n",
    "plt.plot(range(2,8), scores)\n",
    "plt.xlabel(\"k\")\n",
    "plt.ylabel(\"Silhouette score\")\n",
    "plt.ylim(ymin=0, ymax=1.1)\n",
    "plt.title(\"Complete-link\")\n",
    "plt.show()"
   ]
  },
  {
   "cell_type": "markdown",
   "metadata": {},
   "source": [
    "**Discuss differences between single-link and complete-link**"
   ]
  },
  {
   "cell_type": "markdown",
   "metadata": {},
   "source": [
    "To sum up in one sentence, the single link had a higher silhouette score for the best-case scenario, but the complete-link was more consistent. <br>\n",
    "<br>\n",
    "It seems like the single-link clearly favored a lower `k`, as it had a pretty good silhouette score for `k=2` (.62) and `k=3` (.57). However, after that it dipped very low. On the other hand, the silhouette score for the complete link peaked at `k=3` (.51), but always stayed within the range of about .3 to .51. I think that this is because the single link can classfy better between two or three groups, as the few groups are more distinct and the clustering is not as impeded by a variety of options. On the other hand, the complete link performed about as well for everything since it based its decision-- in a very loose, non-exact sense-- on the more extreme elements of the group. "
   ]
  },
  {
   "cell_type": "markdown",
   "metadata": {
    "jp-MarkdownHeadingCollapsed": true,
    "tags": []
   },
   "source": [
    "## 2.1.2 (5%) Clustering the Iris Classification problem - HAC\n",
    "\n",
    "Requirements:\n",
    "- Repeat excercise 2.1.1 and include the output label as one of the input features."
   ]
  },
  {
   "cell_type": "code",
   "execution_count": null,
   "metadata": {
    "tags": []
   },
   "outputs": [],
   "source": [
    "X, y = load_data(\"data/iris.arff\", y_type=str)\n",
    "labels = y.copy()\n",
    "y = np.array([(y == val).astype(int) for val in np.unique(y)]).T\n",
    "iris_w_output = np.append(X, y, axis=1)\n",
    "iris_w_output"
   ]
  },
  {
   "cell_type": "code",
   "execution_count": null,
   "metadata": {
    "id": "4SSoasDQSKXb"
   },
   "outputs": [],
   "source": [
    "# Clustering labels with single-link\n",
    "# Load evaluation data\n",
    "scores = []\n",
    "for k in range(2,8):\n",
    "    hac = HACClustering(k=k, link_type='single')\n",
    "    hac.fit(iris_w_output)\n",
    "    # Print clusters\n",
    "    hac.print_clusters()\n",
    "    scores.append(hac.silhouette)\n",
    "    print('-'*40)\n",
    "    \n",
    "plt.plot(range(2,8), scores)\n",
    "plt.xlabel(\"k\")\n",
    "plt.ylabel(\"Silhouette score\")\n",
    "plt.ylim(ymin=0, ymax=1.1)\n",
    "plt.title(\"Single-link with output\")\n",
    "plt.show()"
   ]
  },
  {
   "cell_type": "code",
   "execution_count": null,
   "metadata": {
    "id": "4SSoasDQSKXb"
   },
   "outputs": [],
   "source": [
    "# Clustering labels with complete-link\n",
    "# Load evaluation data\n",
    "scores = []\n",
    "for k in range(2,8):\n",
    "    hac = HACClustering(k=k, link_type='complete')\n",
    "    hac.fit(iris_w_output)\n",
    "    # Print clusters\n",
    "    hac.print_clusters()\n",
    "    scores.append(hac.silhouette)\n",
    "    print('-'*40)\n",
    "    \n",
    "plt.plot(range(2,8), scores)\n",
    "plt.xlabel(\"k\")\n",
    "plt.ylabel(\"Silhouette score\")\n",
    "plt.ylim(ymin=0, ymax=1.1)\n",
    "plt.title(\"Complete-link with output\")\n",
    "plt.show()"
   ]
  },
  {
   "cell_type": "markdown",
   "metadata": {},
   "source": [
    "**Discuss any differences between the results from 2.1.1 and 2.1.2.**<br>\n",
    "When running the data with the output labels, it drastically improved the scores. In addition, both single link and complete link scored very similarly for all values of `k`. My guess is because including the output labels added a whole new dimension (or three due to one-hot encoding) that helped drastically separate out the data. This is supported by the fact that the optimal value for `k` for both single and complete link was 3, which was the original number of classes."
   ]
  },
  {
   "cell_type": "markdown",
   "metadata": {
    "id": "9vWiTdlbR2Xh",
    "jp-MarkdownHeadingCollapsed": true,
    "tags": []
   },
   "source": [
    "## 2.2.1 (7.5%) Clustering the Iris Classification problem: K-Means\n",
    "\n",
    "Load the Iris Dataset [Iris Dataset](https://byu.instructure.com/courses/14142/files?preview=4421369)\n",
    "\n",
    "Run K-Means on the Iris dataset using the output label as a feature and without using the output label as a feature\n",
    "\n",
    "Requirements:\n",
    "- State whether you normalize your data or not (your choice).  \n",
    "- Show your results for clusterings using k = 2-7.  \n",
    "- Graph the silhouette score for each k and discuss your results (i.e. what kind of clusters are being made).\n",
    "---"
   ]
  },
  {
   "cell_type": "code",
   "execution_count": null,
   "metadata": {
    "id": "4SSoasDQSKXb"
   },
   "outputs": [],
   "source": [
    "# Clustering labels without output as feature\n",
    "# Load evaluation data\n",
    "scores = []\n",
    "for k in range(2,8):\n",
    "    kmns = KMEANSClustering(k=k)\n",
    "    kmns.fit(iris)\n",
    "    # Print clusters\n",
    "    kmns.print_clusters()\n",
    "    scores.append(kmns.silhouette)\n",
    "    print('-'*40)\n",
    "    \n",
    "plt.plot(range(2,8), scores)\n",
    "plt.xlabel(\"k\")\n",
    "plt.ylabel(\"Silhouette score\")\n",
    "plt.ylim(ymin=0, ymax=1.1)\n",
    "plt.title(\"K-Means without output\")\n",
    "plt.show()"
   ]
  },
  {
   "cell_type": "code",
   "execution_count": null,
   "metadata": {
    "id": "4SSoasDQSKXb"
   },
   "outputs": [],
   "source": [
    "# Clustering labels with output as feature\n",
    "# Load evaluation data\n",
    "scores = []\n",
    "for k in range(2,8):\n",
    "    kmns = KMEANSClustering(k=k)\n",
    "    kmns.fit(iris_w_output)\n",
    "    # Print clusters\n",
    "    kmns.print_clusters()\n",
    "    scores.append(kmns.silhouette)\n",
    "    print('-'*40)\n",
    "    \n",
    "plt.plot(range(2,8), scores)\n",
    "plt.xlabel(\"k\")\n",
    "plt.ylabel(\"Silhouette score\")\n",
    "plt.ylim(ymin=0, ymax=1.1)\n",
    "plt.title(\"K-Means with output\")\n",
    "plt.show()"
   ]
  },
  {
   "cell_type": "markdown",
   "metadata": {},
   "source": [
    "**Compare results and differences between using the output label and excluding the output label**<br>\n",
    "Much like the HAC problems, the KMeans classification did much better when provided the output label. It did much better when `k=3`, the original number of output classes, and stayed pretty  constant otherwise. If not given the output classes, the algorithm definately favored smaller values of `k` with one notable exception: `k=6`. I'm not sure what to make of it; I would guess that the algorithm found something that really helped split each of the groups in half, or something similar to that. I find it very strange that there was a peak at exactly 2 times the normal output class."
   ]
  },
  {
   "cell_type": "markdown",
   "metadata": {
    "jp-MarkdownHeadingCollapsed": true,
    "tags": []
   },
   "source": [
    "## 2.2.2 (5%) Clustering the Iris Classification problem: K-Means\n",
    "\n",
    "Requirements:\n",
    "- Use the output label as an input feature\n",
    "- Run K-Means 5 times with k=4, each time with different initial random centroids and discuss any variations in the results. "
   ]
  },
  {
   "cell_type": "code",
   "execution_count": null,
   "metadata": {},
   "outputs": [],
   "source": [
    "#K-Means 5 times\n",
    "for i in range(5):\n",
    "    print(f\"ITERATION {i+1}\")\n",
    "    kmns = KMEANSClustering(k=4)\n",
    "    kmns.fit(X)\n",
    "\n",
    "    # Print clusters\n",
    "    kmns.print_clusters()\n",
    "    print('-'*40)"
   ]
  },
  {
   "cell_type": "markdown",
   "metadata": {},
   "source": [
    "**Discuss any variations in the results**<br>\n",
    "The silhouette scores did not vary much. I found this interesting, as I figured the random choice would significantly impact the variation. However, it seems like the data is sufficiently separated that when I run the kmeans clustering without any limit of iterations, it usually arrives at the same result every time."
   ]
  },
  {
   "cell_type": "markdown",
   "metadata": {
    "id": "oBBmeNQ7jvcQ",
    "tags": []
   },
   "source": [
    "## 3.1 (12.5%) Run the SK versions of HAC (both single and complete link) on iris including the output label and compare your results with those above.\n",
    "Use the silhouette score for this iris problem(k = 2-7).  You may write your own code to do silhouette (optional extra credit) or you can use sklearn.metrics.silhouette_score. Please state if you coded your own silhouette score function to receive the extra credit points (described below). Discuss how helpful Silhouette appeared to be for selecting which clustering is best. You do not need to supply full Silhouette graphs, but you could if you wanted to.\n",
    "\n",
    "Requirements\n",
    "- Use the Sillhouette score for this iris problem (k= 2-7) \n",
    "- Use at least one other scoring function from [sklearn.metrics](https://scikit-learn.org/stable/modules/model_evaluation.html) and compare the results. State which metric was used. \n",
    "- Possible sklean metrics include (* metrics require ground truth labels):\n",
    "    - adjusted_mutual_info_score*\n",
    "    - adjusted_rand_score*\n",
    "    - homogeneity_score*\n",
    "    - completeness_score*\n",
    "    - fowlkes_mallows_score*\n",
    "    - calinski_harabasz_score\n",
    "    - davies_bouldin_score\n",
    "- Experiment using different hyper-parameters. Discuss Results"
   ]
  },
  {
   "cell_type": "code",
   "execution_count": null,
   "metadata": {
    "id": "OFQv70W2VyqJ"
   },
   "outputs": [],
   "source": [
    "# Load sklearn\n",
    "import itertools as it\n",
    "from sklearn.metrics import silhouette_score, completeness_score, adjusted_mutual_info_score\n",
    "metrics = ['euclidean', 'manhattan', 'cosine', 'l1', 'l2']\n",
    "linkages = ['ward', 'complete', 'average', 'single']\n",
    "\n",
    "args_list = [{'metric': metric,  'linkage': linkage} for metric, linkage in it.product(metrics, linkages) ]\n",
    "# args_strings = [' | '.join([f\"{arg}={val}\" for arg, val in args.items()]) for arg in args_list]\n",
    "\n",
    "int_labels = np.unique(labels, return_inverse=True)[1]\n",
    "\n",
    "silhouette= []\n",
    "completeness = []\n",
    "adjusted_mututal_info = []\n",
    "remove_args = []\n",
    "for i, args in enumerate(args_list):\n",
    "    if args['linkage'] == 'ward' and args['metric'] != 'euclidean':\n",
    "        remove_args.append(i)\n",
    "        continue\n",
    "    sil_i = []\n",
    "    comp_i = []\n",
    "    adj_i = []\n",
    "    for k in range(2,8):\n",
    "        args['n_clusters'] = k\n",
    "        hac = AgglomerativeClustering(**args)\n",
    "        predicted_labels = hac.fit_predict(iris_w_output)\n",
    "\n",
    "        sil_i.append(silhouette_score(iris_w_output, predicted_labels, metric=args['metric']))\n",
    "        comp_i.append(completeness_score(int_labels, predicted_labels))\n",
    "        adj_i.append(adjusted_mutual_info_score(int_labels, predicted_labels))\n",
    "        del args['n_clusters']\n",
    "    \n",
    "    silhouette.append(tuple(sil_i))\n",
    "    completeness.append(tuple(comp_i))\n",
    "    adjusted_mututal_info.append(tuple(adj_i))\n",
    "\n",
    "args_list = [arg for i, arg in enumerate(args_list) if i not in remove_args]\n",
    "args_strings = [str(arg) for arg in args_list]\n",
    "for score_name, scores in zip((\"Silhouette\", \"Completeness\", \"Adjusted Mutual Info\"), (silhouette, completeness, adjusted_mututal_info)):\n",
    "    plt.figure(figsize=(30,20))\n",
    "    for s_i in scores:\n",
    "        plt.plot(range(2,8), s_i, label=True, linewidth=4)\n",
    "    \n",
    "    plt.legend(args_strings, fontsize=20,loc=\"lower center\", ncol=2)\n",
    "    plt.title(f\"{score_name} score\", fontweight='bold')\n",
    "    plt.xlabel('k')\n",
    "    plt.ylim(ymin=0, ymax=1.1)\n",
    "    plt.xlim(xmin=2, xmax=7)\n",
    "    plt.show()\n"
   ]
  },
  {
   "cell_type": "markdown",
   "metadata": {
    "id": "BqSFAXwlk3Ms"
   },
   "source": [
    "**Record impressions**<br>\n",
    "The combination of hyperparameters that consistently performed among the best was `metric=cosine, linkage=single`. All other top-level combinations always seemed to fail in at least one other respect. For instance, argument pairs such as `euclidean, ward` and `l1, complete` did very well with the completeness score and adjusted mutual info score, but did worse for the silhouette score. This made me wonder how one would select  the best scoring metric: there seems to be a lot of variation! However, the one nice thing is that all of the hyperparameter combinations made the scores follow a similar pattern, so as long as you stuck to one, you would be able to appropriately compare scores at least.\n",
    "<br><br>\n",
    "What I found bizzare is that the `cosine` distance metrics did so well. Not sure how this makes a difference, but it is definately something to look into.<br><br>\n",
    "Also, sorry that the colors looped; I couldn't figure out how to get matplotlib to stop doing that in the time I had. :/"
   ]
  },
  {
   "cell_type": "markdown",
   "metadata": {
    "id": "oBBmeNQ7jvcQ",
    "tags": []
   },
   "source": [
    "## 3.2 (12.5%) Run the SK version of k-means on iris including the output label and compare your results with those above. \n",
    "\n",
    "Use the silhouette score for this iris problem(k = 2-7). You may write your own code to do silhouette (optional extra credit) or you can use sklearn.metrics.silhouette_score. Please state if you coded your own silhouette score function to receive the extra credit points (described below). Discuss how helpful Silhouette appeared to be for selecting which clustering is best. You do not need to supply full Silhouette graphs, but you could if you wanted to.\n",
    "\n",
    "Requirements\n",
    "- Use the Sillhouette score for this iris problem (k= 2-7) \n",
    "- Use at least one other scoring function form sklearn.metrics and compare the results. State which metric was used\n",
    "- Experiment different hyper-parameters. Discuss Results"
   ]
  },
  {
   "cell_type": "code",
   "execution_count": null,
   "metadata": {
    "tags": []
   },
   "outputs": [],
   "source": [
    "# Load sklearn\n",
    "inits = ['k-means++', 'random']\n",
    "n_inits = [5, 10, 20]\n",
    "max_iters = [100, 300, 600]\n",
    "algorithms = ['lloyd', 'elkan']\n",
    "\n",
    "args_list = [{'init': init, 'n_init': n_init, 'max_iter': max_iter, 'algorithm': algorithm} \n",
    "             for init, n_init, max_iter, algorithm in it.product(inits, n_inits, max_iters, algorithms)]\n",
    "# args_strings = [' | '.join([f\"{arg}={val}\" for arg, val in args.items()]) for arg in args_list]\n",
    "args_strings = [str(arg) for arg in args_list]\n",
    "\n",
    "int_labels = np.unique(labels, return_inverse=True)[1]\n",
    "\n",
    "silhouette= []\n",
    "completeness = []\n",
    "adjusted_mututal_info = []\n",
    "for args in args_list:\n",
    "    sil_i = []\n",
    "    comp_i = []\n",
    "    adj_i = []\n",
    "    for k in range(2,8):\n",
    "        args['n_clusters'] = k\n",
    "        kmeans = KMeans(**args)\n",
    "        predicted_labels = kmeans.fit_predict(iris_w_output)\n",
    "\n",
    "        sil_i.append(silhouette_score(iris_w_output, predicted_labels))\n",
    "        comp_i.append(completeness_score(int_labels, predicted_labels))\n",
    "        adj_i.append(adjusted_mutual_info_score(int_labels, predicted_labels))\n",
    "        del args['n_clusters']\n",
    "    \n",
    "    silhouette.append(tuple(sil_i))\n",
    "    completeness.append(tuple(comp_i))\n",
    "    adjusted_mututal_info.append(tuple(adj_i))\n",
    "\n",
    "for score_name, scores in zip((\"Silhouette\", \"Completeness\", \"Adjusted Mutual Info\"), (silhouette, completeness, adjusted_mututal_info)):\n",
    "    plt.figure(figsize=(30,20))\n",
    "    for s_i in scores:\n",
    "        plt.plot(range(2,8), s_i, label=True, linewidth=4)\n",
    "    \n",
    "    plt.legend(args_strings, fontsize=15, loc=\"lower center\", ncol=3)\n",
    "    plt.title(f\"{score_name} score\", fontweight='bold')\n",
    "    plt.xlabel('k')\n",
    "    plt.ylim(ymin=0, ymax=1.1)\n",
    "    plt.xlim(xmin=2, xmax=7)\n",
    "    plt.show()"
   ]
  },
  {
   "cell_type": "markdown",
   "metadata": {
    "id": "BqSFAXwlk3Ms"
   },
   "source": [
    "**Record impressions**<br><br>\n",
    "Unlike the HAC, All of the different hyperparameters seemed to perform fairly similarly. There was a peak around `k=3` (though not for `silhouette` strangely enough; still scored highly), then decreased. This follows a similar pattern to that seen in section 2.2. This makes sense, as the output label was included. When I didn't include the labels (below), The pattern also followed the same as above, sitting at a max early on and tapering off. Interestingly though, the Adjusted Mutual info score did show a peak around 3"
   ]
  },
  {
   "cell_type": "code",
   "execution_count": null,
   "metadata": {
    "tags": []
   },
   "outputs": [],
   "source": [
    "# Load sklearn\n",
    "inits = ['k-means++', 'random']\n",
    "n_inits = [5, 10, 20]\n",
    "max_iters = [100, 300, 600]\n",
    "algorithms = ['lloyd', 'elkan']\n",
    "\n",
    "args_list = [{'init': init, 'n_init': n_init, 'max_iter': max_iter, 'algorithm': algorithm} \n",
    "             for init, n_init, max_iter, algorithm in it.product(inits, n_inits, max_iters, algorithms)]\n",
    "# args_strings = [' | '.join([f\"{arg}={val}\" for arg, val in args.items()]) for arg in args_list]\n",
    "args_strings = [str(arg) for arg in args_list]\n",
    "\n",
    "int_labels = np.unique(labels, return_inverse=True)[1]\n",
    "\n",
    "silhouette= []\n",
    "completeness = []\n",
    "adjusted_mututal_info = []\n",
    "for args in args_list:\n",
    "    sil_i = []\n",
    "    comp_i = []\n",
    "    adj_i = []\n",
    "    for k in range(2,8):\n",
    "        args['n_clusters'] = k\n",
    "        kmeans = KMeans(**args)\n",
    "        predicted_labels = kmeans.fit_predict(iris)\n",
    "\n",
    "        sil_i.append(silhouette_score(iris, predicted_labels))\n",
    "        comp_i.append(completeness_score(int_labels, predicted_labels))\n",
    "        adj_i.append(adjusted_mutual_info_score(int_labels, predicted_labels))\n",
    "        del args['n_clusters']\n",
    "    \n",
    "    silhouette.append(tuple(sil_i))\n",
    "    completeness.append(tuple(comp_i))\n",
    "    adjusted_mututal_info.append(tuple(adj_i))\n",
    "\n",
    "for score_name, scores in zip((\"Silhouette\", \"Completeness\", \"Adjusted Mutual Info\"), (silhouette, completeness, adjusted_mututal_info)):\n",
    "    plt.figure(figsize=(30,20))\n",
    "    for s_i in scores:\n",
    "        plt.plot(range(2,8), s_i, label=True, linewidth=4)\n",
    "    \n",
    "    plt.legend(args_strings, fontsize=15, loc=\"lower center\", ncol=3)\n",
    "    plt.title(f\"{score_name} score\", fontweight='bold')\n",
    "    plt.xlabel('k')\n",
    "    plt.ylim(ymin=0, ymax=1.1)\n",
    "    plt.xlim(xmin=2, xmax=7)\n",
    "    plt.show()"
   ]
  },
  {
   "cell_type": "code",
   "execution_count": null,
   "metadata": {},
   "outputs": [],
   "source": [
    "# Copy function Below"
   ]
  },
  {
   "cell_type": "code",
   "execution_count": null,
   "metadata": {},
   "outputs": [],
   "source": []
  }
 ],
 "metadata": {
  "colab": {
   "collapsed_sections": [],
   "name": "lab 1 - perceptron",
   "provenance": []
  },
  "kernelspec": {
   "display_name": "Python 3 (ipykernel)",
   "language": "python",
   "name": "python3"
  },
  "language_info": {
   "codemirror_mode": {
    "name": "ipython",
    "version": 3
   },
   "file_extension": ".py",
   "mimetype": "text/x-python",
   "name": "python",
   "nbconvert_exporter": "python",
   "pygments_lexer": "ipython3",
   "version": "3.11.0rc1"
  }
 },
 "nbformat": 4,
 "nbformat_minor": 4
}
