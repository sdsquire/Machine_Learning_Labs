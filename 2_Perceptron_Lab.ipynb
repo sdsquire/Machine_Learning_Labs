{
 "cells": [
  {
   "cell_type": "markdown",
   "metadata": {
    "id": "DVL7_bgmIAPR"
   },
   "source": [
    "# Perceptron Lab\n",
    "\n",
    "\n",
    "\n"
   ]
  },
  {
   "cell_type": "code",
   "execution_count": 1,
   "metadata": {
    "id": "6ZbYjZZZ_yLV"
   },
   "outputs": [],
   "source": [
    "from sklearn.base import BaseEstimator, ClassifierMixin\n",
    "from sklearn.linear_model import Perceptron\n",
    "from scipy.io import arff\n",
    "import numpy as np\n",
    "import matplotlib.pyplot as plt\n",
    "import pandas as pd"
   ]
  },
  {
   "cell_type": "markdown",
   "metadata": {
    "id": "sCcEPx5VIORj",
    "tags": []
   },
   "source": [
    "## 1. (40%) Correctly implement and submit your own code for the perceptron learning algorithm. \n",
    "\n",
    "### Code requirements\n",
    "#### Complete\n",
    "- Use Stochastic/On-line training updates: Iterate and update weights after each training instance (i.e. do not attempt batch updates)\n",
    "- Implement a stopping criterion: when your model has trained for a number of epochs with no significant improvement in accuracy, stop training. Note that the weights/accuracy do not usually change monotonically.\n",
    "#### ToDo\n",
    "- Shuffle the data each epoch.\n",
    "- Use your perceptron to solve the Debug data. We provide you with several parameters, and you should be able to replicate our results every time. When you are confident it is correct, run your perceptron on the Evaluation data with the same parameters, and print your final weights and accuracy."
   ]
  },
  {
   "cell_type": "code",
   "execution_count": 2,
   "metadata": {
    "id": "_a2KSZ_7AN0G"
   },
   "outputs": [],
   "source": [
    "class PerceptronClassifier(BaseEstimator,ClassifierMixin):\n",
    "    def __init__(self, lr =.1, shuffle = True):\n",
    "        self.lr = lr\n",
    "        self.shuffle = shuffle\n",
    "        self.weights = None\n",
    "        self.epochs_run = 0\n",
    "        self.misclassified = []\n",
    "        \n",
    "    def __str__(self):\n",
    "        output = \"Weights: \"\n",
    "        output += str(self.weights) if self.weights is not None else \"[ ]\"\n",
    "        output += f\"\\nEpochs run: {self.epochs_run}\"\n",
    "        return output\n",
    "\n",
    "    def fit(self, X, y, epochs=0, stopping_criteria=False, initial_weights=None):\n",
    "        self.weights = initial_weights if initial_weights is not None else np.zeros(len(X.T)+1)\n",
    "        # self.weights = initial_weights if initial_weights is not None else np.array([np.random.random() for _ in range(len(X.T)+1)])\n",
    "        \n",
    "        if not stopping_criteria:\n",
    "            for epoch in range(int(epochs)):\n",
    "                misclassified = 0\n",
    "                if self.shuffle:\n",
    "                    X, y = self._shuffle_data(X, y)\n",
    "                for inputs, target in zip(X, y):\n",
    "                    self.weights += (dw := self._get_updates(inputs, target))\n",
    "                    misclassified += int(any(dw))\n",
    "                self.misclassified.append(misclassified)\n",
    "            self.epochs_run = epochs\n",
    "        else:\n",
    "            best_score = self.score(X, y)\n",
    "            curr_epochs=epochs\n",
    "            while curr_epochs > 0:\n",
    "                self.epochs_run += 1\n",
    "                misclassified=0\n",
    "                if self.shuffle:\n",
    "                    X, y = self._shuffle_data(X, y)\n",
    "                for inputs, target in zip(X, y):\n",
    "                    self.weights += (dw := self._get_updates(inputs, target))\n",
    "                    misclassified += int(any(dw))\n",
    "                self.misclassified.append(misclassified)\n",
    "                \n",
    "                curr_score = self.score(X,y)\n",
    "                if curr_score > best_score:\n",
    "                    best_score = curr_score\n",
    "                    curr_epochs = epochs\n",
    "                else:\n",
    "                    curr_epochs -= 1\n",
    "\n",
    "        return self\n",
    "                    \n",
    "    \n",
    "    def _get_updates(self, inputs, target):\n",
    "        inputs = np.concatenate((inputs, [1]))\n",
    "        output = np.dot(inputs, self.weights)\n",
    "        output = int(output > 0)\n",
    "        d_w = (np.array([self.lr*(target - output)*x_i for x_i in inputs]) if target != output \n",
    "                   else np.zeros((len(inputs))))\n",
    "        return d_w\n",
    "\n",
    "    def predict(self, X):\n",
    "        outputs = np.array([np.dot(self.weights, inputs) for inputs in np.concatenate((X, np.ones((len(X),1))), axis=1)])\n",
    "        return (outputs > 0).astype(int)\n",
    "\n",
    "    def score(self, X, y):\n",
    "        correct = np.sum(self.predict(X) == y)\n",
    "        return correct / len(y)\n",
    "\n",
    "    def _shuffle_data(self, X, y):\n",
    "        data = np.concatenate((X, np.array((y,)).T), axis=1)\n",
    "        np.random.shuffle(data)\n",
    "        return data[:,:-1], data[:,1]\n",
    "\n",
    "    def get_weights(self):\n",
    "        return self.weights"
   ]
  },
  {
   "cell_type": "markdown",
   "metadata": {
    "id": "KibCIXIThpbE",
    "tags": []
   },
   "source": [
    "## 1.1 Debug and Evaluation\n",
    "\n",
    "Debug and Evaluate your model using the parameters below\n",
    "\n",
    "Learning Rate = 0.1\\\n",
    "Deterministic = 10 [i.e., run it 10 epochs and should be the same everytime you run it]\\\n",
    "Shuffle = False\\\n",
    "Initial Weights = All zeros\n",
    "\n",
    "---\n",
    "\n",
    "### 1.1.1 Debug\n",
    "\n",
    "Debug your model by running it on the [debug dataset](https://byu.instructure.com/files/4421290/download?download_frd=1)\n",
    "\n",
    "Expected Results:\n",
    "\n",
    "Accuracy = [0.88]\\\n",
    "Final Weights = [-0.23  0.18 -0.1 ]"
   ]
  },
  {
   "cell_type": "code",
   "execution_count": 3,
   "metadata": {
    "id": "KgAyy82gixIF"
   },
   "outputs": [
    {
     "name": "stdout",
     "output_type": "stream",
     "text": [
      "0.875\n",
      "Weights: [-0.23  0.18 -0.1 ]\n",
      "Epochs run: 10\n"
     ]
    }
   ],
   "source": [
    "# Load debug data\n",
    "data, meta = arff.loadarff(\"data/linsep2nonorigin.arff\")\n",
    "data = np.array([[*row] for row in data]).astype(float)\n",
    "X, y = data[:, :-1], data[:, -1]\n",
    "\n",
    "# Train on debug data\n",
    "clfr = PerceptronClassifier(shuffle=False)\n",
    "clfr.fit(X, y, epochs=10, stopping_criteria=False)\n",
    "print( clfr.score(X, y))\n",
    "print(clfr)"
   ]
  },
  {
   "cell_type": "markdown",
   "metadata": {
    "id": "kY3VNB1ui03N",
    "tags": []
   },
   "source": [
    "### 1.1.2 Evaluation\n",
    "\n",
    "We will evaluate your model based on it's performance on the [evaluation dataset](https://byu.instructure.com/files/4421294/download?download_frd=1)"
   ]
  },
  {
   "cell_type": "code",
   "execution_count": 4,
   "metadata": {
    "id": "2yAxA78QjDh2"
   },
   "outputs": [
    {
     "name": "stdout",
     "output_type": "stream",
     "text": [
      "0.9876093294460642\n",
      "Weights: [-3.80657242 -2.840821   -3.0719334  -1.4003906   4.9       ]\n",
      "Epochs run: 10\n"
     ]
    }
   ],
   "source": [
    "# Load evaluation data\n",
    "data, meta = arff.loadarff(\"data/data_banknote_authentication.arff\")\n",
    "data = np.array([[*row] for row in data]).astype(float)\n",
    "X, y = data[:, :-1], data[:, -1]\n",
    "data\n",
    "# Train on evaluation data\n",
    "clfr = PerceptronClassifier(shuffle=False)\n",
    "clfr.fit(X, y, epochs=10, stopping_criteria=False)\n",
    "# Print accuracy and weights\n",
    "print(clfr.score(X,y))\n",
    "print(clfr)\n"
   ]
  },
  {
   "cell_type": "markdown",
   "metadata": {
    "id": "9vWiTdlbR2Xh",
    "jp-MarkdownHeadingCollapsed": true,
    "tags": []
   },
   "source": [
    "## 2. (30%) Classifying on linearly separable and non-linearly separable data\n",
    "\n",
    "### 2.1 Create 2 datasets\n",
    "\n",
    "- Both with 8 instances using 2 real valued inputs (ranging between -1 and 1) with 4 instances from each class. \n",
    "- One data set should be linearly separable and the other not.\n",
    "\n"
   ]
  },
  {
   "cell_type": "code",
   "execution_count": 5,
   "metadata": {
    "id": "4SSoasDQSKXb"
   },
   "outputs": [],
   "source": [
    "# Create .2 datasets\n",
    "lin_sep_data = np.array([\n",
    "    [.1, .1, 0],\n",
    "    [.3, .2, 0],\n",
    "    [.1, 1,  0],\n",
    "    [.4, .2, 0],\n",
    "    [.5, .2, 1],\n",
    "    [.7, .1, 1],\n",
    "    [.4, .6, 1],\n",
    "    [.3, .8, 1]\n",
    "])\n",
    "\n",
    "non_lin_sep_data = np.array([\n",
    "    [.1, .1, 0],\n",
    "    [.7, .1, 0],\n",
    "    [.1, 1,  0],\n",
    "    [.4, .2, 0],\n",
    "    [.5, .2, 1],\n",
    "    [.3, .2, 1],\n",
    "    [.4, .6, 1],\n",
    "    [.3, .8, 1]\n",
    "])"
   ]
  },
  {
   "cell_type": "markdown",
   "metadata": {
    "id": "SIRG42TgSR4x"
   },
   "source": [
    "### 2.2 Train on both sets with your perceptron code (with LR=.1)"
   ]
  },
  {
   "cell_type": "code",
   "execution_count": 6,
   "metadata": {
    "id": "KBGUn43ASiXW"
   },
   "outputs": [
    {
     "name": "stdout",
     "output_type": "stream",
     "text": [
      "1.0\n",
      "Weights: [ 0.43  0.09 -0.2 ]\n",
      "Epochs run: 122\n",
      "\n",
      "0.5\n",
      "Weights: [ 1.80000000e-01  1.70000000e-01 -2.77555756e-17]\n",
      "Epochs run: 10015\n"
     ]
    }
   ],
   "source": [
    "# Train on each dataset\n",
    "lin_clfr = PerceptronClassifier(shuffle=False)\n",
    "X, y = lin_sep_data[:,:2], lin_sep_data[:,2]\n",
    "print(lin_clfr.fit(X, y, epochs=100, stopping_criteria=True).score(X, y))\n",
    "print(lin_clfr)\n",
    "print()\n",
    "\n",
    "non_lin_clfr = PerceptronClassifier(shuffle=False)\n",
    "X, y = non_lin_sep_data[:,:2], non_lin_sep_data[:,2]\n",
    "print(non_lin_clfr.fit(X, y, epochs=10000, stopping_criteria=True).score(X, y))\n",
    "print(non_lin_clfr)\n"
   ]
  },
  {
   "cell_type": "code",
   "execution_count": 7,
   "metadata": {
    "id": "ZCPFUAGTS2sX"
   },
   "outputs": [
    {
     "name": "stdout",
     "output_type": "stream",
     "text": [
      "lin_line 0.43 0.09 -0.2\n",
      "non_lin_line 0.18 0.17 -0.0\n"
     ]
    },
    {
     "data": {
      "image/png": "[encoded data removed]",
      "text/plain": [
       "<Figure size 640x480 with 1 Axes>"
      ]
     },
     "metadata": {},
     "output_type": "display_data"
    },
    {
     "data": {
      "image/png": "[encoded data removed]",
      "text/plain": [
       "<Figure size 640x480 with 1 Axes>"
      ]
     },
     "metadata": {},
     "output_type": "display_data"
    }
   ],
   "source": [
    "# Prepare graph line\n",
    "x, y, b = lin_clfr.get_weights()\n",
    "lin_line = [[i/10 for i in range(11)], [(x*i/10 + b)/-y for i in range(11)]]\n",
    "print(\"lin_line\", round(x,3), round(y,3), round(b, 3))\n",
    "x, y, b = non_lin_clfr.get_weights()\n",
    "print(\"non_lin_line\", round(x,3), round(y,3), round(b,3))\n",
    "non_lin_line = [[i/10 for i in range(11)], [(x*i/10 + b)/-y for i in range(11)]]\n",
    "# Graph datasets and decision lines\n",
    "plt.scatter(*lin_sep_data[:,:2].T, c=list(map(['orange', 'blue'].__getitem__, lin_sep_data[:,2].astype(int))))\n",
    "plt.plot(*lin_line)\n",
    "plt.show()\n",
    "\n",
    "plt.scatter(*non_lin_sep_data[:,:2].T, c=list(map(['orange', 'blue'].__getitem__, non_lin_sep_data[:,2].astype(int))))\n",
    "plt.plot(*non_lin_line)\n",
    "plt.show()\n"
   ]
  },
  {
   "cell_type": "markdown",
   "metadata": {
    "tags": []
   },
   "source": [
    "### 2.4 Discuss why the perceptron won’t converge on non-linearly separable data.\n",
    "The whole idea of a perceptron is essentially a fancy way of describing a linear combination, where some proportion of each of `[x_1, x_2, x_3 ... x_n]` are combined by adding to get `y`. If looked at in graph form, each of the `x_i` terms could be seen as a new axis of movement. To get to `y` (some point in space), one would only need to specify how much in each axis to move. The resulting coefficients would represent a  straight line pointing straight towards point `y` (a vector). As a result, the results of a perceptron will inevitably be linear."
   ]
  },
  {
   "cell_type": "markdown",
   "metadata": {
    "id": "0ySvhd1lUGSe",
    "tags": []
   },
   "source": [
    "## 3. (20%) Use your perceptron code to learn this version of the [voting data set](https://byu.instructure.com/files/4421311/download?download_frd=1).\n",
    "\n",
    "This particular task is an edited version of the standard voting set, where we have replaced all the “don’t know” values with the most common value for the particular attribute.  \n",
    "\n",
    "### 3.1 Create a table that reports the final training and test set accuracy and the number of epochs for each trial.\n",
    "\n",
    "- Try it five times with different random 70/30 splits. \n",
    "- Use your own code to randomize and make splits. \n",
    "- Report the 5 trials and the average across the 5 trials in a table.  \n",
    "\n",
    "| Trial | Training Accuracy | Test accuracy | Number of epochs |\n",
    "| --- | --- | --- | --- |\n",
    "| 1 | .95 | .55 | 4 |\n",
    "| 2 | .85 | .45 | 6 |\n",
    "| Average | .9 | .5 | 5 | \n",
    "\n",
    "*- As a rough sanity check, typical Perceptron test accuracies for the voting data set are 90%-98%.*"
   ]
  },
  {
   "cell_type": "code",
   "execution_count": 8,
   "metadata": {
    "id": "0ySvhd1lUGSe",
    "jp-MarkdownHeadingCollapsed": true,
    "tags": []
   },
   "outputs": [
    {
     "data": {
      "text/plain": [
       "array([[0. , 0.1, 0.1, ..., 0.1, 0.1, 0. ],\n",
       "       [0. , 0. , 0.1, ..., 0. , 0.1, 0.1],\n",
       "       [0. , 0.1, 0.1, ..., 0. , 0. , 0. ],\n",
       "       ...,\n",
       "       [0. , 0.1, 0. , ..., 0. , 0.1, 0.1],\n",
       "       [0. , 0. , 0. , ..., 0. , 0.1, 0.1],\n",
       "       [0. , 0.1, 0. , ..., 0. , 0. , 0.1]])"
      ]
     },
     "execution_count": 8,
     "metadata": {},
     "output_type": "execute_result"
    }
   ],
   "source": [
    "data, meta = arff.loadarff(\"data/voting-dataset.arff\")\n",
    "data = np.array([[*row] for row in data])\n",
    "data = np.where(data==b'n', 0, data)\n",
    "data = np.where(data==b'y', .1, data)\n",
    "data = np.where(data==b'democrat', 0, data)\n",
    "data = np.where(data==b'republican', .1, data)\n",
    "data = data.astype(float)\n",
    "X, y = data[:, :-1], data[:, -1]\n",
    "X\n",
    "\n",
    "data"
   ]
  },
  {
   "cell_type": "code",
   "execution_count": 9,
   "metadata": {
    "id": "0ySvhd1lUGSe",
    "jp-MarkdownHeadingCollapsed": true,
    "tags": []
   },
   "outputs": [
    {
     "name": "stdout",
     "output_type": "stream",
     "text": [
      "Weights: [-1.00000000e-02  3.00000000e-01  4.00000000e-02 -6.00000000e-02\n",
      "  7.38389384e-14  1.00000000e-02 -2.00000000e-02  1.00000000e-02\n",
      "  2.00000000e-02 -1.00000000e-02  2.00000000e-02 -1.00000000e-02\n",
      " -1.00000000e-02  7.00000000e-02  1.00000000e-02  1.00000000e-02\n",
      " -1.00000000e-01]\n",
      "Epochs run: 1000\n"
     ]
    },
    {
     "data": {
      "text/plain": [
       "0.6030368763557483"
      ]
     },
     "execution_count": 9,
     "metadata": {},
     "output_type": "execute_result"
    }
   ],
   "source": [
    "clfr = PerceptronClassifier(shuffle=True)\n",
    "clfr.fit(X, y, epochs=1000, stopping_criteria=False)\n",
    "print(clfr)\n",
    "clfr.score(X, y)"
   ]
  },
  {
   "cell_type": "code",
   "execution_count": 10,
   "metadata": {
    "id": "Romyl4G8Trki"
   },
   "outputs": [
    {
     "name": "stdout",
     "output_type": "stream",
     "text": [
      "split 1...\n",
      "split 2...\n",
      "split 3...\n",
      "split 4...\n",
      "split 5...\n"
     ]
    },
    {
     "data": {
      "text/html": [
       "<div>\n",
       "<style scoped>\n",
       "    .dataframe tbody tr th:only-of-type {\n",
       "        vertical-align: middle;\n",
       "    }\n",
       "\n",
       "    .dataframe tbody tr th {\n",
       "        vertical-align: top;\n",
       "    }\n",
       "\n",
       "    .dataframe thead th {\n",
       "        text-align: right;\n",
       "    }\n",
       "</style>\n",
       "<table border=\"1\" class=\"dataframe\">\n",
       "  <thead>\n",
       "    <tr style=\"text-align: right;\">\n",
       "      <th></th>\n",
       "      <th>Training Accuracy</th>\n",
       "      <th>Test accuracy</th>\n",
       "      <th>Number of epochs</th>\n",
       "    </tr>\n",
       "    <tr>\n",
       "      <th>Trial</th>\n",
       "      <th></th>\n",
       "      <th></th>\n",
       "      <th></th>\n",
       "    </tr>\n",
       "  </thead>\n",
       "  <tbody>\n",
       "    <tr>\n",
       "      <th>1</th>\n",
       "      <td>0.562112</td>\n",
       "      <td>0.697842</td>\n",
       "      <td>100.0</td>\n",
       "    </tr>\n",
       "    <tr>\n",
       "      <th>2</th>\n",
       "      <td>0.608696</td>\n",
       "      <td>0.589928</td>\n",
       "      <td>100.0</td>\n",
       "    </tr>\n",
       "    <tr>\n",
       "      <th>3</th>\n",
       "      <td>0.596273</td>\n",
       "      <td>0.618705</td>\n",
       "      <td>101.0</td>\n",
       "    </tr>\n",
       "    <tr>\n",
       "      <th>4</th>\n",
       "      <td>0.608696</td>\n",
       "      <td>0.589928</td>\n",
       "      <td>100.0</td>\n",
       "    </tr>\n",
       "    <tr>\n",
       "      <th>5</th>\n",
       "      <td>0.602484</td>\n",
       "      <td>0.604317</td>\n",
       "      <td>101.0</td>\n",
       "    </tr>\n",
       "    <tr>\n",
       "      <th>Average</th>\n",
       "      <td>0.595652</td>\n",
       "      <td>0.620144</td>\n",
       "      <td>100.4</td>\n",
       "    </tr>\n",
       "  </tbody>\n",
       "</table>\n",
       "</div>"
      ],
      "text/plain": [
       "         Training Accuracy  Test accuracy  Number of epochs\n",
       "Trial                                                      \n",
       "1                 0.562112       0.697842             100.0\n",
       "2                 0.608696       0.589928             100.0\n",
       "3                 0.596273       0.618705             101.0\n",
       "4                 0.608696       0.589928             100.0\n",
       "5                 0.602484       0.604317             101.0\n",
       "Average           0.595652       0.620144             100.4"
      ]
     },
     "execution_count": 10,
     "metadata": {},
     "output_type": "execute_result"
    }
   ],
   "source": [
    "# Create the table any way you like\n",
    "def split_data(data, train_prop=.7):\n",
    "    np.random.shuffle(data)\n",
    "    i = int(len(data)*train_prop) \n",
    "    return data[:i, :], data[i:,:]\n",
    "\n",
    "\n",
    "clfrs = [PerceptronClassifier() for _ in range(5)]\n",
    "\n",
    "trials = list()\n",
    "for i, clfr in enumerate(clfrs):\n",
    "    print(f\"split {i+1}...\")\n",
    "    train, test = split_data(data)\n",
    "    X_train, y_train = train[:,:-1], train[:,-1]\n",
    "    X_test, y_test = test[:,:-1], test[:,-1]\n",
    "    clfr.fit(X_train, y_train, epochs=100, stopping_criteria=True, initial_weights = np.random.normal(0, .1, len(X_train.T)+1))\n",
    "    trials.append([i+1, clfr.score(X_train, y_train), clfr.score(X_test, y_test), clfr.epochs_run])\n",
    "\n",
    "trials_df = pd.DataFrame(trials, columns=[\"Trial\", \"Training Accuracy\", \"Test accuracy\", \"Number of epochs\"])\n",
    "trials_df = trials_df.set_index(\"Trial\", drop=True)\n",
    "trials_df.loc[\"Average\"] = trials_df.mean()\n",
    "trials_df"
   ]
  },
  {
   "cell_type": "code",
   "execution_count": 11,
   "metadata": {},
   "outputs": [
    {
     "name": "stdout",
     "output_type": "stream",
     "text": [
      "handicapped-infants: 0.013\n",
      "water-project-cost-sharing: 0.249\n",
      "adoption-of-the-budget-resolution: -0.011\n",
      "physician-fee-freeze: 0.027\n",
      "el-salvador-aid: -0.003\n",
      "religious-groups-in-schools: -0.028\n",
      "anti-satellite-test-ban: -0.041\n",
      "aid-to-nicaraguan-contras: -0.022\n",
      "mx-missile: 0.017\n",
      "immigration: -0.023\n",
      "synfuels-corporation-cutback: -0.003\n",
      "education-spending: 0.002\n",
      "superfund-right-to-sue: 0.02\n",
      "crime: -0.015\n",
      "duty-free-exports: 0.001\n",
      "export-administration-act-south-africa: -0.019\n",
      "Class: -0.097\n"
     ]
    }
   ],
   "source": [
    "labels = list(meta._attributes.keys())\n",
    "for label, value in zip(labels, clfrs[0].get_weights()):\n",
    "    print(f\"{label}: {round(value,3)}\")"
   ]
  },
  {
   "cell_type": "markdown",
   "metadata": {
    "id": "cm4rbWkzVeoR"
   },
   "source": [
    "### 3.2 By looking at the weights, explain what the model has learned and how the individual input features affect the result. Which specific features are most critical for the voting task, and which are least critical? \n"
   ]
  },
  {
   "cell_type": "markdown",
   "metadata": {
    "id": "g3F0Qp-BVi1R"
   },
   "source": [
    "It seems that some attributes affect the likelihood that someone will vote republican vs democrat more than others. For instance, the most indicitive factor for someone voting republican seemed to be the **water project cost sharing**, with the **Class** and **superfund right to sue** issues also contributing somewhat. On the other hand, issues such as the **synfuels corporation cutback** and the **el salvador aid** seemed to influence the person to vote democrat. Others, such as the **export administration act south africa** and the **mx missile** didn't seem to have much of an effect. <br><br>The weights here were very low. This is probably because my accuracy was so low, so it had very little predictive power."
   ]
  },
  {
   "cell_type": "markdown",
   "metadata": {
    "id": "NyUmJ4yWVsQ7"
   },
   "source": [
    "### 3.3 Make a graph of the average misclassification rate vs epochs (0th – final epoch).\n",
    "\n",
    "- Average the misclassification rate for the training set across your 5 trials (not across 5 epochs).\n",
    "\n",
    "\n",
    "![Average Misclassification Rate](https://raw.githubusercontent.com/rmorain/CS472-1/master/images/perceptron/avg_misclassification_rate_vs_epochs.png)"
   ]
  },
  {
   "cell_type": "code",
   "execution_count": 12,
   "metadata": {
    "id": "2_ZRPWWVVeFM"
   },
   "outputs": [
    {
     "data": {
      "image/png": "[encoded data removed]",
      "text/plain": [
       "<Figure size 640x480 with 1 Axes>"
      ]
     },
     "metadata": {},
     "output_type": "display_data"
    },
    {
     "name": "stdout",
     "output_type": "stream",
     "text": [
      "[183.  180.6 180.8 179.4 178.6 178.4 178.2 178.  178.  178.4 178.  177.8\n",
      " 177.8 177.8 177.8 178.  177.8 178.  177.8 178.  177.8 178.  178.  177.8\n",
      " 177.8 177.8 177.8 177.8 177.8 178.  177.8 178.  177.8 177.8 178.4 178.\n",
      " 177.8 177.8 177.8 177.8 177.8 177.8 177.8 177.8 177.8 177.8 177.8 177.8\n",
      " 177.8 177.8 177.8 177.8 178.  177.8 177.8 177.8 178.  177.8 177.8 177.8\n",
      " 178.  177.8 177.8 178.2 177.8 177.8 177.8 177.8 178.2 177.8 178.  178.\n",
      " 177.8 177.8 177.8 177.8 177.8 177.8 177.8 177.8 177.8 177.8 177.8 177.8\n",
      " 177.8 177.8 177.8 177.8 178.  177.8 177.8 178.  177.8 177.8 177.8 177.8\n",
      " 177.8 177.8 177.8 177.8]\n"
     ]
    }
   ],
   "source": [
    "# Graph here\n",
    "min_epochs = len(min(clfrs, key=lambda c: len(c.misclassified)).misclassified)\n",
    "misclassified = np.array([c.misclassified[:min_epochs] for c in clfrs])\n",
    "avg_misclfs = np.average(misclassified, axis=0)\n",
    "    \n",
    "def plot_misclassification(avg_misclassification_rate):\n",
    "    \"\"\"\n",
    "        Plots the average misclassification rate\n",
    "    Args:\n",
    "        avg_misclassification_rate (array-like): A 1D array or list\n",
    "    \"\"\"\n",
    "    plt.plot(np.arange(len(avg_misclassification_rate)), avg_misclassification_rate)\n",
    "    plt.title(\"Average Misclassification Rate vs. Epoch\")\n",
    "    plt.xlabel(\"Epoch\")\n",
    "    plt.ylabel(\"Misclassification Rate\")\n",
    "    plt.show()\n",
    "    \n",
    "\n",
    "plot_misclassification(avg_misclfs)\n",
    "print(avg_misclfs)"
   ]
  },
  {
   "cell_type": "markdown",
   "metadata": {
    "id": "oBBmeNQ7jvcQ"
   },
   "source": [
    "## 4.1 (5%) Use the perceptron algorithm from the [scikit-learn toolkit](https://scikit-learn.org/stable/modules/generated/sklearn.linear_model.Perceptron.html) to learn the voting task above.\n",
    "- Report and compare your results with your own perceptron code."
   ]
  },
  {
   "cell_type": "code",
   "execution_count": 13,
   "metadata": {},
   "outputs": [
    {
     "data": {
      "text/plain": [
       "array([[0, 1, 1, ..., 1, 1, 1],\n",
       "       [0, 0, 1, ..., 1, 0, 1],\n",
       "       [0, 1, 1, ..., 1, 0, 0],\n",
       "       ...,\n",
       "       [0, 1, 0, ..., 1, 0, 1],\n",
       "       [0, 0, 0, ..., 1, 0, 1],\n",
       "       [0, 1, 0, ..., 1, 0, 0]])"
      ]
     },
     "execution_count": 13,
     "metadata": {},
     "output_type": "execute_result"
    }
   ],
   "source": [
    "data, meta = arff.loadarff(\"data/voting-dataset.arff\")\n",
    "data = np.array([[*row] for row in data])\n",
    "data = np.where(data==b'n', 0, data)\n",
    "data = np.where(data==b'y', 1, data)\n",
    "data = np.where(data==b'democrat', 0, data)\n",
    "data = np.where(data==b'republican', 1, data)\n",
    "data = data.astype(int)\n",
    "X, y = data[:, :-1], data[:, -1]\n",
    "X\n"
   ]
  },
  {
   "cell_type": "code",
   "execution_count": 14,
   "metadata": {
    "id": "OFQv70W2VyqJ"
   },
   "outputs": [
    {
     "name": "stdout",
     "output_type": "stream",
     "text": [
      "0.9609544468546638\n",
      "handicapped-infants: 0.0\n",
      "water-project-cost-sharing: -3.0\n",
      "adoption-of-the-budget-resolution: -8.0\n",
      "physician-fee-freeze: 17.0\n",
      "el-salvador-aid: 4.0\n",
      "religious-groups-in-schools: -2.0\n",
      "anti-satellite-test-ban: 5.0\n",
      "aid-to-nicaraguan-contras: 6.0\n",
      "mx-missile: -7.0\n",
      "immigration: 5.0\n",
      "synfuels-corporation-cutback: -10.0\n",
      "education-spending: -1.0\n",
      "superfund-right-to-sue: -1.0\n",
      "crime: 0.0\n",
      "duty-free-exports: -4.0\n",
      "export-administration-act-south-africa: 5.0\n"
     ]
    }
   ],
   "source": [
    "# Load sklearn perceptron\n",
    "prn = Perceptron()\n",
    "\n",
    "# Train on voting dataset\n",
    "prn.fit(X, y)\n",
    "print(prn.score(X, y))\n",
    "dir(prn)\n",
    "labels = list(meta._attributes.keys())\n",
    "for label, value in zip(labels, prn.coef_[0]):\n",
    "    print(f\"{label}: {round(value,3)}\")"
   ]
  },
  {
   "cell_type": "markdown",
   "metadata": {},
   "source": [
    "*Report your comparison*\n",
    "\n",
    "Listed above are the different topics in questions, with the weights of how much they correlate to voting republican. *(repub**1**ican, dem**0**crat haha)*. For instance: it would seem that agreeing with the **physician fee freeze** is highly associated with voting republicaan. Other strong associations are aggreeing with the **immigration** issue, the **anti-satellite test ban**, and with **education spending**. <br><br> On the other hand, agreeing with the **synfuels corporation cutback** is strongly associated with voting democrat. Other strong associations are agreeing with the **adoption of budget resolutions**, supporting **duty free exports**, and supporting the **mx missile**. <br><br> Finally, other attributes had little association with either. Some include the issue of **handicapped infants** and of **export administration act south africa**.\n"
   ]
  },
  {
   "cell_type": "markdown",
   "metadata": {},
   "source": [
    "## 4.2 (5%) Use the perceptron algorithm from the [scikit-learn toolkit](https://scikit-learn.org/stable/modules/generated/sklearn.linear_model.Perceptron.html) to learn one other data set of your choice.\n",
    "- Try out some of the hyper-parameters that scikit-learn makes available."
   ]
  },
  {
   "cell_type": "code",
   "execution_count": 15,
   "metadata": {},
   "outputs": [
    {
     "name": "stdout",
     "output_type": "stream",
     "text": [
      "0: 0.95\n",
      "1: 0.95\n",
      "2: 0.95\n",
      "3: 0.95\n",
      "4: 0.95\n",
      "5: 0.95\n",
      "6: 0.9166666666666666\n",
      "7: 0.9\n",
      "8: 0.95\n"
     ]
    }
   ],
   "source": [
    "# Load sklearn perceptron\n",
    "heart_data = pd.read_csv(\"data/heart_failure_clinical_records_dataset.csv\")\n",
    "#Normalize the data\n",
    "heart_data = (heart_data-heart_data.min())/(heart_data.max() - heart_data.min())\n",
    "X_train = heart_data.iloc[:int(len(heart_data)*.8), :-1]\n",
    "X_test = heart_data.iloc[int(len(heart_data)*.8):, :-1]\n",
    "y_train = heart_data.iloc[:int(len(heart_data)*.8), -1]\n",
    "y_test = heart_data.iloc[int(len(heart_data)*.8):, -1]\n",
    "X_test\n",
    "\n",
    "# Train on your dataset\n",
    "heart_clfrs = [\n",
    "    Perceptron(),\n",
    "    Perceptron(shuffle=False),\n",
    "    Perceptron(early_stopping=True),\n",
    "    Perceptron(early_stopping=True, n_iter_no_change=10),\n",
    "    Perceptron(early_stopping=True, n_iter_no_change=100),\n",
    "    Perceptron(early_stopping=True, validation_fraction=.05, n_iter_no_change=10),\n",
    "    Perceptron(early_stopping=True, validation_fraction=.25, n_iter_no_change=10),\n",
    "    Perceptron(tol=None, max_iter=1000),\n",
    "    Perceptron(fit_intercept=False),\n",
    "]\n",
    "\n",
    "scores = []\n",
    "for heart_clfr in heart_clfrs:\n",
    "    heart_clfr.fit(X_train, y_train)\n",
    "    scores.append(heart_clfr.score(X_test, y_test))\n",
    "\n",
    "for i, score in enumerate(scores):\n",
    "    print(f\"{i}: {score}\")"
   ]
  },
  {
   "cell_type": "markdown",
   "metadata": {
    "id": "BqSFAXwlk3Ms"
   },
   "source": [
    "*Report what hyperparameters you experimented with & what performed well*\n",
    "I experimented with several different hyperparameters. The experiments were as follows:\n",
    "<ol>\n",
    "    <li>Standard perceptron</li>\n",
    "    <li>No data shuffling</li>\n",
    "    <li>Experimented with early stopping</li>\n",
    "    <li>Early stopping: increased iterations without change to 10</li>\n",
    "    <li>Early stopping: increased iterations without change to 100</li>\n",
    "    <li>Early stopping: increased iterations without change to 10, decreased validation fraction to 0.05</li>\n",
    "    <li>Early stopping: increased iterations without change to 10, increased validation fraction to 0.25</li>\n",
    "    <li>Changed to iterating for exactly 1000 iterations</li>\n",
    "    <li>Does not attempt to center data</li>\n",
    "</ol>\n",
    "\n",
    "As can be seen above, all sets of hyperparameters performed identically, with a **95% accuracy**, except for `6` and `7`. Evidently, raising the validation fraction too high didn't leave the perceptron with enough data to train with. Also, they evidently ran for more than 1000 epochs."
   ]
  },
  {
   "cell_type": "markdown",
   "metadata": {
    "id": "cTlK-kijk8Mg"
   },
   "source": [
    "## 5. (Optional 5% extra credit) Use the perceptron rule to learn the [iris task](https://byu.instructure.com/files/4421369/download?download_frd=1) or some other task with more than two possible output values. \n",
    "\n",
    "Note that the [iris data](https://byu.instructure.com/files/4421369/download?download_frd=1) set has 3 output classes, and a perceptron node only has two possible outputs.  You could implement either of the two most common ways to deal with this. For testing you just execute the novel instance on each model and combine the overall results to see which output class wins."
   ]
  }
 ],
 "metadata": {
  "colab": {
   "collapsed_sections": [],
   "name": "lab 1 - perceptron",
   "provenance": []
  },
  "kernelspec": {
   "display_name": "Python 3 (ipykernel)",
   "language": "python",
   "name": "python3"
  },
  "language_info": {
   "codemirror_mode": {
    "name": "ipython",
    "version": 3
   },
   "file_extension": ".py",
   "mimetype": "text/x-python",
   "name": "python",
   "nbconvert_exporter": "python",
   "pygments_lexer": "ipython3",
   "version": "3.11.0rc1"
  }
 },
 "nbformat": 4,
 "nbformat_minor": 4
}
